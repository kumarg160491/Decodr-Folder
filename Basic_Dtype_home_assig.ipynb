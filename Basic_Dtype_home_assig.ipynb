{
 "cells": [
  {
   "cell_type": "code",
   "execution_count": 3,
   "metadata": {
    "id": "zj0qj9Z3vGYT"
   },
   "outputs": [
    {
     "name": "stdout",
     "output_type": "stream",
     "text": [
      "1\n",
      "2.8\n",
      "1j\n"
     ]
    }
   ],
   "source": [
    "# print the type of x,y,z\n",
    "\n",
    "x = 1  \n",
    "y = 2.8  \n",
    "z = 1j\n",
    "\n",
    "print(x)\n",
    "print(y)\n",
    "print(z)"
   ]
  },
  {
   "cell_type": "code",
   "execution_count": 4,
   "metadata": {
    "colab": {
     "base_uri": "https://localhost:8080/"
    },
    "id": "AljHnQDuvT4s",
    "outputId": "4a5fc9d9-3d61-4f17-8392-e6c182e46abd"
   },
   "outputs": [
    {
     "name": "stdout",
     "output_type": "stream",
     "text": [
      "1\n"
     ]
    }
   ],
   "source": [
    "# Convert flot into int \n",
    "\n",
    "X=1.4\n",
    "x=int(1.4 )\n",
    "print(x )"
   ]
  },
  {
   "cell_type": "code",
   "execution_count": 6,
   "metadata": {
    "id": "pXCgmrggvfKE"
   },
   "outputs": [
    {
     "name": "stdout",
     "output_type": "stream",
     "text": [
      "5.0\n",
      "3\n",
      "5j\n"
     ]
    }
   ],
   "source": [
    "#Convert from one type to another:\n",
    "\n",
    "x = 5   # int\n",
    "y = 3.8  # float\n",
    "z = 5j   # complex\n",
    "\n",
    "#convert from int to float:\n",
    "x=float(5)\n",
    "print(x)\n",
    "#convert from float to int:\n",
    "y=int(3.8)\n",
    "print(y)\n",
    "#convert from int to complex:\n",
    "z=complex(5j)\n",
    "print(z)"
   ]
  },
  {
   "cell_type": "code",
   "execution_count": 12,
   "metadata": {
    "id": "Rm34yvYbweTT"
   },
   "outputs": [
    {
     "name": "stdout",
     "output_type": "stream",
     "text": [
      "5\n"
     ]
    }
   ],
   "source": [
    "# Print 15 random numbers\n",
    "\n",
    "import random\n",
    "\n",
    "print(random.randrange(1, 15) )"
   ]
  },
  {
   "cell_type": "code",
   "execution_count": 15,
   "metadata": {
    "id": "eXkc7b3yxYpN"
   },
   "outputs": [
    {
     "name": "stdout",
     "output_type": "stream",
     "text": [
      "t5\n",
      "4\n",
      "6.0\n"
     ]
    }
   ],
   "source": [
    "# Convert int ,float to string \n",
    "\n",
    "x = str(\"t5\") \n",
    "print(x)\n",
    "y = str(4)\n",
    "print(y)\n",
    "z = str(6.0)\n",
    "print(z)\n",
    "\n"
   ]
  },
  {
   "cell_type": "code",
   "execution_count": 16,
   "metadata": {
    "id": "RDquS0nfxB81"
   },
   "outputs": [
    {
     "name": "stdout",
     "output_type": "stream",
     "text": [
      "world\n"
     ]
    }
   ],
   "source": [
    "# Assign a string to variable \n",
    "\n",
    "a=\"world\"\n",
    "print(a)"
   ]
  },
  {
   "cell_type": "code",
   "execution_count": 17,
   "metadata": {
    "colab": {
     "base_uri": "https://localhost:8080/"
    },
    "id": "RH-g9oUdypcy",
    "outputId": "62269c11-7039-44c8-a96f-d4f4f3eeb261"
   },
   "outputs": [
    {
     "name": "stdout",
     "output_type": "stream",
     "text": [
      "Hello raj?Hi Manish.How are you.I am fine.\n"
     ]
    }
   ],
   "source": [
    "# Concatenate two string \n",
    "a=\"Hello raj?\"\n",
    "b=\"Hi Manish.\"\n",
    "c=\"How are you.\"\n",
    "d=\"I am fine.\"\n",
    "\n",
    "print(a+b+c+d)"
   ]
  },
  {
   "cell_type": "code",
   "execution_count": 19,
   "metadata": {
    "colab": {
     "base_uri": "https://localhost:8080/"
    },
    "id": "Z4z8NPqxzXsS",
    "outputId": "c936dddb-0bac-4fb0-a879-3d51da82df73"
   },
   "outputs": [
    {
     "name": "stdout",
     "output_type": "stream",
     "text": [
      "lo, Wor\n"
     ]
    }
   ],
   "source": [
    "# Print the output='lo, Wor'\n",
    "a = \"Hello, World!\"\n",
    "print(a[3:10])"
   ]
  },
  {
   "cell_type": "code",
   "execution_count": 21,
   "metadata": {
    "id": "maTfRVHrzA-2"
   },
   "outputs": [
    {
     "name": "stdout",
     "output_type": "stream",
     "text": [
      "True\n"
     ]
    }
   ],
   "source": [
    "# Check the required string/word is in the sentence of not\n",
    "\n",
    "Sentence=\"Hello Indian , I like you culture.\"\n",
    "\n",
    "print('like' in Sentence)"
   ]
  },
  {
   "cell_type": "code",
   "execution_count": 23,
   "metadata": {
    "id": "eyFT8KlO0cMk"
   },
   "outputs": [
    {
     "name": "stdout",
     "output_type": "stream",
     "text": [
      "I Love\n"
     ]
    }
   ],
   "source": [
    "# Print the output='I Love'\n",
    "Sentence=\"I Love India!\"\n",
    "print(Sentence[0:6])"
   ]
  },
  {
   "cell_type": "code",
   "execution_count": 40,
   "metadata": {
    "id": "VP50WkkomLu8"
   },
   "outputs": [
    {
     "name": "stdout",
     "output_type": "stream",
     "text": [
      "I want to pay 49.95 dollars for 3 pieces of item 567.\n"
     ]
    }
   ],
   "source": [
    "#print the output: \n",
    "#I want to pay 49.95 dollars for 3 pieces of item 567\n",
    "\n",
    "quantity = 3\n",
    "itemno = 567\n",
    "price = 49.95\n",
    "myorder = \"I want to pay {} dollars for {} pieces of item {}.\"\n",
    "print(myorder.format(price,quantity,itemno)) "
   ]
  },
  {
   "cell_type": "code",
   "execution_count": 42,
   "metadata": {
    "id": "fcLAtZJUn8dP"
   },
   "outputs": [
    {
     "name": "stdout",
     "output_type": "stream",
     "text": [
      "We will vist America after two days.\n"
     ]
    }
   ],
   "source": [
    "# remove the error\n",
    "Sent = \"We will vist America after two days.\"\n",
    "print(Sent)"
   ]
  },
  {
   "cell_type": "code",
   "execution_count": 46,
   "metadata": {
    "colab": {
     "base_uri": "https://localhost:8080/"
    },
    "id": "NASyDsBbofMs",
    "outputId": "b20ebd1a-7ce6-4c30-a7a5-c1da915c7810"
   },
   "outputs": [
    {
     "name": "stdout",
     "output_type": "stream",
     "text": [
      "When will we go for holidays ?  \n"
     ]
    }
   ],
   "source": [
    "# Print the sentence after comma in next line \n",
    "Sent=\" Hii Mona , When will we go for holidays ?  \"\n",
    "print(Sent[12:])"
   ]
  },
  {
   "cell_type": "code",
   "execution_count": 6,
   "metadata": {
    "id": "QGOrGORspHnt"
   },
   "outputs": [
    {
     "data": {
      "text/plain": [
       "['Sam', 'Nick', 'Ram']"
      ]
     },
     "execution_count": 6,
     "metadata": {},
     "output_type": "execute_result"
    }
   ],
   "source": [
    "# Remove the duplicate from the list \n",
    "List=[\"Ram\",'Sam','Nick','Sam']\n",
    "List=list(set(List))\n",
    "List"
   ]
  },
  {
   "cell_type": "code",
   "execution_count": 3,
   "metadata": {
    "id": "eZfO5og7qk56"
   },
   "outputs": [
    {
     "name": "stdout",
     "output_type": "stream",
     "text": [
      "['banana', 'cherry', 'orange', 'kiwi', 'melon']\n"
     ]
    }
   ],
   "source": [
    "# Print last for element of list by negative Indexing \n",
    "\n",
    "Fruit_list = [\"apple\", \"banana\", \"cherry\", \"orange\", \"kiwi\", \"melon\", \"mango\"]\n",
    "print(Fruit_list[__:___])"
   ]
  },
  {
   "cell_type": "code",
   "execution_count": 5,
   "metadata": {
    "id": "mPJFzwewrEij"
   },
   "outputs": [
    {
     "name": "stdout",
     "output_type": "stream",
     "text": [
      "['Ram', 'Micky', 'Nick', 'Sam']\n"
     ]
    }
   ],
   "source": [
    "# Replace the first Sam from Micky\n",
    "List=[\"Ram\",'Sam','Nick','Sam']\n",
    "List[1]='Micky'\n",
    "print(List)"
   ]
  },
  {
   "cell_type": "code",
   "execution_count": 12,
   "metadata": {
    "id": "pSGdFz2srUMA"
   },
   "outputs": [
    {
     "data": {
      "text/plain": [
       "['Ram', 'Sam', 'Nick', 'Micky', 'Sam']"
      ]
     },
     "execution_count": 12,
     "metadata": {},
     "output_type": "execute_result"
    }
   ],
   "source": [
    "# Insert the Micky at 3rd index\n",
    "List=[\"Ram\",'Sam','Nick','Sam']\n",
    "List[3]='Micky'\n",
    "List.append('Sam')\n",
    "List"
   ]
  },
  {
   "cell_type": "code",
   "execution_count": 15,
   "metadata": {
    "id": "VwK2FyRrroiY"
   },
   "outputs": [
    {
     "name": "stdout",
     "output_type": "stream",
     "text": [
      "kiwi\n"
     ]
    }
   ],
   "source": [
    "# Insert Kiwi in a tuple\n",
    "\n",
    "x = (\"apple\", \"banana\", \"cherry\")\n",
    "y = list(x)\n",
    "____ = \"kiwi\"\n",
    "x = tuple(__)\n",
    "\n",
    "print(x)"
   ]
  },
  {
   "cell_type": "code",
   "execution_count": 17,
   "metadata": {
    "id": "UUky7WT4tnRM"
   },
   "outputs": [
    {
     "name": "stdout",
     "output_type": "stream",
     "text": [
      "{'Kiwi', 'banana', 'apple', 'cherry'}\n"
     ]
    }
   ],
   "source": [
    "# Add item in set\n",
    "\n",
    "Fruits = {\"apple\", \"banana\", \"cherry\"}\n",
    "\n",
    "Fruits.add(\"Kiwi\")\n",
    "\n",
    "print(Fruits)"
   ]
  },
  {
   "cell_type": "code",
   "execution_count": 1,
   "metadata": {
    "id": "NKHoF69hueSK"
   },
   "outputs": [
    {
     "name": "stdout",
     "output_type": "stream",
     "text": [
      "{'pineapple', 'banana', 'cherry', 'papaya', 'mango', 'apple'}\n"
     ]
    }
   ],
   "source": [
    "# Add two set\n",
    "Fruit1 = {\"apple\", \"banana\", \"cherry\"}\n",
    "Fruit2 = {\"pineapple\", \"mango\", \"papaya\"}\n",
    "Fruits=Fruit1|Fruit2\n",
    "\n",
    "print(Fruits)"
   ]
  },
  {
   "cell_type": "code",
   "execution_count": 11,
   "metadata": {
    "id": "Z5YUZ2dUvbwK"
   },
   "outputs": [
    {
     "data": {
      "text/plain": [
       "{'KUmar', 'Prince'}"
      ]
     },
     "execution_count": 11,
     "metadata": {},
     "output_type": "execute_result"
    }
   ],
   "source": [
    "# Remove the any item from the set\n",
    "set={\"Krishh\",\"Prince\",\"KUmar\"}\n",
    "set.discard(\"Krishh\")\n",
    "set"
   ]
  },
  {
   "cell_type": "code",
   "execution_count": 17,
   "metadata": {
    "id": "_f_XIOsVvtz5"
   },
   "outputs": [
    {
     "name": "stdout",
     "output_type": "stream",
     "text": [
      "dict_keys(['brand', 'model', 'year'])\n",
      "dict_keys(['brand', 'model', 'year', 'Engine'])\n"
     ]
    }
   ],
   "source": [
    "#Add a new item to the original dictionary, and see that the keys list gets updated as well:\n",
    "Bike = {\n",
    "\"brand\": \"Bajaj\",\n",
    "\"model\": \"TVS\",\n",
    "\"year\": 2013\n",
    "}\n",
    "\n",
    "x = Bike.keys()\n",
    "\n",
    "print(x) #before the change\n",
    "\n",
    "Bike[\"Engine\"] = 150\n",
    "\n",
    "print(x) #after the change"
   ]
  },
  {
   "cell_type": "code",
   "execution_count": 21,
   "metadata": {
    "id": "m8OtEPYfwaqX"
   },
   "outputs": [
    {
     "data": {
      "text/plain": [
       "{'brand': 'Ford', 'model': 'Mustang', 'year': 2020}"
      ]
     },
     "execution_count": 21,
     "metadata": {},
     "output_type": "execute_result"
    }
   ],
   "source": [
    "#Update the item from the Dict\n",
    "Car = {\n",
    "  \"brand\": \"Ford\",\n",
    "  \"model\": \"Mustang\",\n",
    "  \"year\": 1964\n",
    "}\n",
    "Car.update({\"year\": 2020})\n",
    "Car"
   ]
  },
  {
   "cell_type": "code",
   "execution_count": 23,
   "metadata": {
    "id": "IknZvic6wvIo"
   },
   "outputs": [
    {
     "name": "stdout",
     "output_type": "stream",
     "text": [
      "{'brand': 'Ford', 'model': 'Mustang'}\n"
     ]
    }
   ],
   "source": [
    "car = {\n",
    "  \"brand\": \"Ford\",\n",
    "  \"model\": \"Mustang\",\n",
    "  \"year\": 1964\n",
    "}\n",
    "car.popitem()\n",
    "print(car)"
   ]
  }
 ],
 "metadata": {
  "colab": {
   "collapsed_sections": [],
   "name": "Basic_Dtype_home_assig.ipynb",
   "provenance": []
  },
  "kernelspec": {
   "display_name": "Python 3",
   "language": "python",
   "name": "python3"
  },
  "language_info": {
   "codemirror_mode": {
    "name": "ipython",
    "version": 3
   },
   "file_extension": ".py",
   "mimetype": "text/x-python",
   "name": "python",
   "nbconvert_exporter": "python",
   "pygments_lexer": "ipython3",
   "version": "3.8.8"
  }
 },
 "nbformat": 4,
 "nbformat_minor": 1
}
